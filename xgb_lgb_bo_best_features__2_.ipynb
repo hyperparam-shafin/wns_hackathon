{
 "cells": [
  {
   "cell_type": "markdown",
   "metadata": {},
   "source": [
    "## Problem Statement\n",
    "Your client is a large MNC and they have 9 broad verticals across the organisation. One of the problem your client is facing is around identifying the right people for promotion (only for manager position and below) and prepare them in time. Currently the process, they are following is:\n",
    "\n",
    "They first identify a set of employees based on recommendations/ past performance\n",
    "Selected employees go through the separate training and evaluation program for each vertical. These programs are based on the required skill of each vertical\n",
    "At the end of the program, based on various factors such as training performance, KPI completion (only employees with KPIs completed greater than 60% are considered) etc., employee gets promotion\n",
    "For above mentioned process, the final promotions are only announced after the evaluation and this leads to delay in transition to their new roles. Hence, company needs your help in identifying the eligible candidates at a particular checkpoint so that they can expedite the entire promotion cycle.\n",
    "\n"
   ]
  },
  {
   "cell_type": "markdown",
   "metadata": {},
   "source": [
    "\n",
    "<img src=\"https://s3-ap-south-1.amazonaws.com/av-blog-media/wp-content/uploads/2018/09/wns_hack_im_1.jpg\">\n"
   ]
  },
  {
   "cell_type": "code",
   "execution_count": 8,
   "metadata": {},
   "outputs": [],
   "source": [
    "# To suppress warnings\n",
    "import warnings\n",
    "warnings.filterwarnings(\"ignore\")\n",
    "\n",
    "# For setting working director\n",
    "import os\n",
    "os.chdir(r'C:\\Users\\mohammad shafin\\Desktop\\wns_hack')\n",
    "\n",
    "import numpy as np\n",
    "import pandas as pd\n",
    "import matplotlib.pyplot as plt\n",
    "\n",
    "#machine learning libraries\n",
    "from bayes_opt import BayesianOptimization\n",
    "import xgboost as xgb\n",
    "import lightgbm as lgb\n",
    "from sklearn.metrics import accuracy_score, average_precision_score, f1_score, recall_score, roc_auc_score,confusion_matrix\n",
    "from sklearn.model_selection import train_test_split, cross_val_score\n",
    "from sklearn.preprocessing import scale\n",
    "\n",
    "# variables\n",
    "iter_no = 5\n",
    "gp_params = {'alpha': 1e-5}\n",
    "cv_splits = 8\n",
    "seed = 42\n"
   ]
  },
  {
   "cell_type": "code",
   "execution_count": 9,
   "metadata": {},
   "outputs": [],
   "source": [
    "data = pd.read_csv('train.csv')"
   ]
  },
  {
   "cell_type": "code",
   "execution_count": 10,
   "metadata": {},
   "outputs": [
    {
     "data": {
      "text/html": [
       "<div>\n",
       "<style scoped>\n",
       "    .dataframe tbody tr th:only-of-type {\n",
       "        vertical-align: middle;\n",
       "    }\n",
       "\n",
       "    .dataframe tbody tr th {\n",
       "        vertical-align: top;\n",
       "    }\n",
       "\n",
       "    .dataframe thead th {\n",
       "        text-align: right;\n",
       "    }\n",
       "</style>\n",
       "<table border=\"1\" class=\"dataframe\">\n",
       "  <thead>\n",
       "    <tr style=\"text-align: right;\">\n",
       "      <th></th>\n",
       "      <th>employee_id</th>\n",
       "      <th>department</th>\n",
       "      <th>region</th>\n",
       "      <th>education</th>\n",
       "      <th>gender</th>\n",
       "      <th>recruitment_channel</th>\n",
       "      <th>no_of_trainings</th>\n",
       "      <th>age</th>\n",
       "      <th>previous_year_rating</th>\n",
       "      <th>length_of_service</th>\n",
       "      <th>KPIs_met &gt;80%</th>\n",
       "      <th>awards_won?</th>\n",
       "      <th>avg_training_score</th>\n",
       "      <th>is_promoted</th>\n",
       "    </tr>\n",
       "  </thead>\n",
       "  <tbody>\n",
       "    <tr>\n",
       "      <th>0</th>\n",
       "      <td>65438</td>\n",
       "      <td>Sales &amp; Marketing</td>\n",
       "      <td>region_7</td>\n",
       "      <td>Master's &amp; above</td>\n",
       "      <td>f</td>\n",
       "      <td>sourcing</td>\n",
       "      <td>1</td>\n",
       "      <td>35</td>\n",
       "      <td>5.0</td>\n",
       "      <td>8</td>\n",
       "      <td>1</td>\n",
       "      <td>0</td>\n",
       "      <td>49</td>\n",
       "      <td>0</td>\n",
       "    </tr>\n",
       "    <tr>\n",
       "      <th>1</th>\n",
       "      <td>65141</td>\n",
       "      <td>Operations</td>\n",
       "      <td>region_22</td>\n",
       "      <td>Bachelor's</td>\n",
       "      <td>m</td>\n",
       "      <td>other</td>\n",
       "      <td>1</td>\n",
       "      <td>30</td>\n",
       "      <td>5.0</td>\n",
       "      <td>4</td>\n",
       "      <td>0</td>\n",
       "      <td>0</td>\n",
       "      <td>60</td>\n",
       "      <td>0</td>\n",
       "    </tr>\n",
       "    <tr>\n",
       "      <th>2</th>\n",
       "      <td>7513</td>\n",
       "      <td>Sales &amp; Marketing</td>\n",
       "      <td>region_19</td>\n",
       "      <td>Bachelor's</td>\n",
       "      <td>m</td>\n",
       "      <td>sourcing</td>\n",
       "      <td>1</td>\n",
       "      <td>34</td>\n",
       "      <td>3.0</td>\n",
       "      <td>7</td>\n",
       "      <td>0</td>\n",
       "      <td>0</td>\n",
       "      <td>50</td>\n",
       "      <td>0</td>\n",
       "    </tr>\n",
       "    <tr>\n",
       "      <th>3</th>\n",
       "      <td>2542</td>\n",
       "      <td>Sales &amp; Marketing</td>\n",
       "      <td>region_23</td>\n",
       "      <td>Bachelor's</td>\n",
       "      <td>m</td>\n",
       "      <td>other</td>\n",
       "      <td>2</td>\n",
       "      <td>39</td>\n",
       "      <td>1.0</td>\n",
       "      <td>10</td>\n",
       "      <td>0</td>\n",
       "      <td>0</td>\n",
       "      <td>50</td>\n",
       "      <td>0</td>\n",
       "    </tr>\n",
       "    <tr>\n",
       "      <th>4</th>\n",
       "      <td>48945</td>\n",
       "      <td>Technology</td>\n",
       "      <td>region_26</td>\n",
       "      <td>Bachelor's</td>\n",
       "      <td>m</td>\n",
       "      <td>other</td>\n",
       "      <td>1</td>\n",
       "      <td>45</td>\n",
       "      <td>3.0</td>\n",
       "      <td>2</td>\n",
       "      <td>0</td>\n",
       "      <td>0</td>\n",
       "      <td>73</td>\n",
       "      <td>0</td>\n",
       "    </tr>\n",
       "  </tbody>\n",
       "</table>\n",
       "</div>"
      ],
      "text/plain": [
       "   employee_id         department     region         education gender  \\\n",
       "0        65438  Sales & Marketing   region_7  Master's & above      f   \n",
       "1        65141         Operations  region_22        Bachelor's      m   \n",
       "2         7513  Sales & Marketing  region_19        Bachelor's      m   \n",
       "3         2542  Sales & Marketing  region_23        Bachelor's      m   \n",
       "4        48945         Technology  region_26        Bachelor's      m   \n",
       "\n",
       "  recruitment_channel  no_of_trainings  age  previous_year_rating  \\\n",
       "0            sourcing                1   35                   5.0   \n",
       "1               other                1   30                   5.0   \n",
       "2            sourcing                1   34                   3.0   \n",
       "3               other                2   39                   1.0   \n",
       "4               other                1   45                   3.0   \n",
       "\n",
       "   length_of_service  KPIs_met >80%  awards_won?  avg_training_score  \\\n",
       "0                  8              1            0                  49   \n",
       "1                  4              0            0                  60   \n",
       "2                  7              0            0                  50   \n",
       "3                 10              0            0                  50   \n",
       "4                  2              0            0                  73   \n",
       "\n",
       "   is_promoted  \n",
       "0            0  \n",
       "1            0  \n",
       "2            0  \n",
       "3            0  \n",
       "4            0  "
      ]
     },
     "execution_count": 10,
     "metadata": {},
     "output_type": "execute_result"
    }
   ],
   "source": [
    "data.head()"
   ]
  },
  {
   "cell_type": "code",
   "execution_count": 11,
   "metadata": {},
   "outputs": [
    {
     "data": {
      "image/png": "[encoded data removed]",
      "text/plain": [
       "<Figure size 432x288 with 1 Axes>"
      ]
     },
     "metadata": {},
     "output_type": "display_data"
    }
   ],
   "source": [
    "data.isna().sum().plot(kind='bar')\n",
    "plt.show()"
   ]
  },
  {
   "cell_type": "code",
   "execution_count": 12,
   "metadata": {},
   "outputs": [],
   "source": [
    "\n",
    "def treesCV(eta, gamma,max_depth,min_child_weight,subsample,colsample_bytree,n_estimators):\n",
    "    #function for cross validation gradient boosted trees\n",
    "    return cross_val_score(xgb.XGBRegressor(objective='binary:logistic',\n",
    "    \t\t\t\t\t\t\t\t\t\t\ttree_method = 'hist',\n",
    "                                                learning_rate=max(eta,0),\n",
    "                                                gamma=max(gamma,0),\n",
    "                                                max_depth=int(max_depth),\n",
    "                                                min_child_weight=int(min_child_weight),\n",
    "                                                silent=True,\n",
    "                                                subsample=max(min(subsample,1),0.0001),\n",
    "                                                colsample_bytree=max(min(colsample_bytree,1),0.0001),\n",
    "                                                n_estimators=int(n_estimators),\n",
    "                                                seed=42,nthread=-1), X=X_train, y=y_train, scoring=None, cv=cv_splits, n_jobs=-1).mean()\n",
    "\n",
    "\n",
    "\n",
    "\n",
    "def data_prep(data_df):\n",
    "\n",
    "    #how to handle types\n",
    "    data_df_num = data_df.select_dtypes(exclude=object)\n",
    "    data_df_obj = data_df.select_dtypes(include=object)\n",
    "\n",
    "    #how to handle nan\n",
    "    data_df_num = data_df_num.fillna(data_df_num.mean())\n",
    "    for column in data_df_num.columns:\n",
    "        data_df_num[column] = scale(data_df_num[column])\n",
    "    #get dummy variables\n",
    "    data_df_obj = data_df_obj.fillna(\"UNKNOWN\")\n",
    "    data_df_obj = pd.get_dummies(data_df_obj, dummy_na=True)\n",
    "\n",
    "    data_concat = pd.concat([data_df_num, data_df_obj],axis=1)\n",
    "\n",
    "    return data_concat.drop(['department_nan','department_R&D','department_Finance','department_Operations',\n",
    "                             'education_nan','education_Below Secondary',\n",
    "                             'region_region_18','region_nan','region_region_10','region_region_12','region_region_24',\n",
    "                             'region_region_31', 'region_region_33','region_region_1','region_region_13','region_region_14',\n",
    "                             'region_region_15','region_region_27','region_region_30','region_region_8','region_region_3',\n",
    "                             'recruitment_channel_sourcing','recruitment_channel_other','recruitment_channel_nan',\n",
    "                             'gender_m','gender_nan','region_region_21','region_region_6', 'region_region_5'],axis=1) "
   ]
  },
  {
   "cell_type": "code",
   "execution_count": 59,
   "metadata": {},
   "outputs": [],
   "source": [
    "\n",
    "def treesLGBCV(eta, max_depth,min_child_weight,subsample,colsample_bytree,n_estimators):\n",
    "    #function for cross validation gradient boosted trees\n",
    "    return cross_val_score(lgb.LGBMRegressor(objective='binary',\n",
    "    \t\t\t\t\t\t\t\t\t\t\tboosting_type = 'goss',\n",
    "                                                learning_rate=max(eta,0),\n",
    "                                                max_depth=int(max_depth),\n",
    "                                                min_child_weight=int(min_child_weight),\n",
    "                                                silent=True,\n",
    "                                                subsample=max(min(subsample,1),0.0001),\n",
    "                                                colsample_bytree=max(min(colsample_bytree,1),0.0001),\n",
    "                                                n_estimators=int(n_estimators),\n",
    "                                                random_state=42,nthread=-1), X=X_train, y=y_train, scoring=None, cv=cv_splits, n_jobs=-1).mean()\n",
    "\n",
    "\n",
    "\n"
   ]
  },
  {
   "cell_type": "code",
   "execution_count": 13,
   "metadata": {},
   "outputs": [],
   "source": [
    "\n",
    "# reading data\n",
    "data_train = pd.read_csv('train.csv', sep=',',encoding=\"ISO-8859-1\")\n",
    "data_train['is_promoted'] = data_train['is_promoted'].astype('object') \n",
    "data_train = data_train.set_index(\"employee_id\")\n",
    "data_train = data_prep(data_train)\n",
    "\n",
    "data_pred = pd.read_csv('test.csv', sep=',',encoding=\"ISO-8859-1\")\n",
    "data_pred = data_pred.set_index(\"employee_id\")\n",
    "data_pred = data_prep(data_pred)\n",
    "\n",
    "\n"
   ]
  },
  {
   "cell_type": "code",
   "execution_count": 14,
   "metadata": {},
   "outputs": [
    {
     "data": {
      "text/html": [
       "<div>\n",
       "<style scoped>\n",
       "    .dataframe tbody tr th:only-of-type {\n",
       "        vertical-align: middle;\n",
       "    }\n",
       "\n",
       "    .dataframe tbody tr th {\n",
       "        vertical-align: top;\n",
       "    }\n",
       "\n",
       "    .dataframe thead th {\n",
       "        text-align: right;\n",
       "    }\n",
       "</style>\n",
       "<table border=\"1\" class=\"dataframe\">\n",
       "  <thead>\n",
       "    <tr style=\"text-align: right;\">\n",
       "      <th></th>\n",
       "      <th>no_of_trainings</th>\n",
       "      <th>age</th>\n",
       "      <th>previous_year_rating</th>\n",
       "      <th>length_of_service</th>\n",
       "      <th>KPIs_met &gt;80%</th>\n",
       "      <th>awards_won?</th>\n",
       "      <th>avg_training_score</th>\n",
       "      <th>is_promoted</th>\n",
       "      <th>department_Analytics</th>\n",
       "      <th>department_HR</th>\n",
       "      <th>...</th>\n",
       "      <th>region_region_32</th>\n",
       "      <th>region_region_34</th>\n",
       "      <th>region_region_4</th>\n",
       "      <th>region_region_7</th>\n",
       "      <th>region_region_9</th>\n",
       "      <th>education_Bachelor's</th>\n",
       "      <th>education_Master's &amp; above</th>\n",
       "      <th>education_UNKNOWN</th>\n",
       "      <th>gender_f</th>\n",
       "      <th>recruitment_channel_referred</th>\n",
       "    </tr>\n",
       "    <tr>\n",
       "      <th>employee_id</th>\n",
       "      <th></th>\n",
       "      <th></th>\n",
       "      <th></th>\n",
       "      <th></th>\n",
       "      <th></th>\n",
       "      <th></th>\n",
       "      <th></th>\n",
       "      <th></th>\n",
       "      <th></th>\n",
       "      <th></th>\n",
       "      <th></th>\n",
       "      <th></th>\n",
       "      <th></th>\n",
       "      <th></th>\n",
       "      <th></th>\n",
       "      <th></th>\n",
       "      <th></th>\n",
       "      <th></th>\n",
       "      <th></th>\n",
       "      <th></th>\n",
       "      <th></th>\n",
       "    </tr>\n",
       "  </thead>\n",
       "  <tbody>\n",
       "    <tr>\n",
       "      <th>65438</th>\n",
       "      <td>-0.415276</td>\n",
       "      <td>0.025598</td>\n",
       "      <td>1.378900</td>\n",
       "      <td>0.500460</td>\n",
       "      <td>1.356878</td>\n",
       "      <td>-0.154018</td>\n",
       "      <td>-1.075931</td>\n",
       "      <td>0</td>\n",
       "      <td>0</td>\n",
       "      <td>0</td>\n",
       "      <td>...</td>\n",
       "      <td>0</td>\n",
       "      <td>0</td>\n",
       "      <td>0</td>\n",
       "      <td>1</td>\n",
       "      <td>0</td>\n",
       "      <td>0</td>\n",
       "      <td>1</td>\n",
       "      <td>0</td>\n",
       "      <td>1</td>\n",
       "      <td>0</td>\n",
       "    </tr>\n",
       "    <tr>\n",
       "      <th>65141</th>\n",
       "      <td>-0.415276</td>\n",
       "      <td>-0.627135</td>\n",
       "      <td>1.378900</td>\n",
       "      <td>-0.437395</td>\n",
       "      <td>-0.736986</td>\n",
       "      <td>-0.154018</td>\n",
       "      <td>-0.253282</td>\n",
       "      <td>0</td>\n",
       "      <td>0</td>\n",
       "      <td>0</td>\n",
       "      <td>...</td>\n",
       "      <td>0</td>\n",
       "      <td>0</td>\n",
       "      <td>0</td>\n",
       "      <td>0</td>\n",
       "      <td>0</td>\n",
       "      <td>1</td>\n",
       "      <td>0</td>\n",
       "      <td>0</td>\n",
       "      <td>0</td>\n",
       "      <td>0</td>\n",
       "    </tr>\n",
       "    <tr>\n",
       "      <th>7513</th>\n",
       "      <td>-0.415276</td>\n",
       "      <td>-0.104948</td>\n",
       "      <td>-0.271742</td>\n",
       "      <td>0.265996</td>\n",
       "      <td>-0.736986</td>\n",
       "      <td>-0.154018</td>\n",
       "      <td>-1.001145</td>\n",
       "      <td>0</td>\n",
       "      <td>0</td>\n",
       "      <td>0</td>\n",
       "      <td>...</td>\n",
       "      <td>0</td>\n",
       "      <td>0</td>\n",
       "      <td>0</td>\n",
       "      <td>0</td>\n",
       "      <td>0</td>\n",
       "      <td>1</td>\n",
       "      <td>0</td>\n",
       "      <td>0</td>\n",
       "      <td>0</td>\n",
       "      <td>0</td>\n",
       "    </tr>\n",
       "    <tr>\n",
       "      <th>2542</th>\n",
       "      <td>1.226063</td>\n",
       "      <td>0.547785</td>\n",
       "      <td>-1.922383</td>\n",
       "      <td>0.969387</td>\n",
       "      <td>-0.736986</td>\n",
       "      <td>-0.154018</td>\n",
       "      <td>-1.001145</td>\n",
       "      <td>0</td>\n",
       "      <td>0</td>\n",
       "      <td>0</td>\n",
       "      <td>...</td>\n",
       "      <td>0</td>\n",
       "      <td>0</td>\n",
       "      <td>0</td>\n",
       "      <td>0</td>\n",
       "      <td>0</td>\n",
       "      <td>1</td>\n",
       "      <td>0</td>\n",
       "      <td>0</td>\n",
       "      <td>0</td>\n",
       "      <td>0</td>\n",
       "    </tr>\n",
       "    <tr>\n",
       "      <th>48945</th>\n",
       "      <td>-0.415276</td>\n",
       "      <td>1.331064</td>\n",
       "      <td>-0.271742</td>\n",
       "      <td>-0.906322</td>\n",
       "      <td>-0.736986</td>\n",
       "      <td>-0.154018</td>\n",
       "      <td>0.718939</td>\n",
       "      <td>0</td>\n",
       "      <td>0</td>\n",
       "      <td>0</td>\n",
       "      <td>...</td>\n",
       "      <td>0</td>\n",
       "      <td>0</td>\n",
       "      <td>0</td>\n",
       "      <td>0</td>\n",
       "      <td>0</td>\n",
       "      <td>1</td>\n",
       "      <td>0</td>\n",
       "      <td>0</td>\n",
       "      <td>0</td>\n",
       "      <td>0</td>\n",
       "    </tr>\n",
       "  </tbody>\n",
       "</table>\n",
       "<p>5 rows × 36 columns</p>\n",
       "</div>"
      ],
      "text/plain": [
       "             no_of_trainings       age  previous_year_rating  \\\n",
       "employee_id                                                    \n",
       "65438              -0.415276  0.025598              1.378900   \n",
       "65141              -0.415276 -0.627135              1.378900   \n",
       "7513               -0.415276 -0.104948             -0.271742   \n",
       "2542                1.226063  0.547785             -1.922383   \n",
       "48945              -0.415276  1.331064             -0.271742   \n",
       "\n",
       "             length_of_service  KPIs_met >80%  awards_won?  \\\n",
       "employee_id                                                  \n",
       "65438                 0.500460       1.356878    -0.154018   \n",
       "65141                -0.437395      -0.736986    -0.154018   \n",
       "7513                  0.265996      -0.736986    -0.154018   \n",
       "2542                  0.969387      -0.736986    -0.154018   \n",
       "48945                -0.906322      -0.736986    -0.154018   \n",
       "\n",
       "             avg_training_score  is_promoted  department_Analytics  \\\n",
       "employee_id                                                          \n",
       "65438                 -1.075931            0                     0   \n",
       "65141                 -0.253282            0                     0   \n",
       "7513                  -1.001145            0                     0   \n",
       "2542                  -1.001145            0                     0   \n",
       "48945                  0.718939            0                     0   \n",
       "\n",
       "             department_HR              ...               region_region_32  \\\n",
       "employee_id                             ...                                  \n",
       "65438                    0              ...                              0   \n",
       "65141                    0              ...                              0   \n",
       "7513                     0              ...                              0   \n",
       "2542                     0              ...                              0   \n",
       "48945                    0              ...                              0   \n",
       "\n",
       "             region_region_34  region_region_4  region_region_7  \\\n",
       "employee_id                                                       \n",
       "65438                       0                0                1   \n",
       "65141                       0                0                0   \n",
       "7513                        0                0                0   \n",
       "2542                        0                0                0   \n",
       "48945                       0                0                0   \n",
       "\n",
       "             region_region_9  education_Bachelor's  \\\n",
       "employee_id                                          \n",
       "65438                      0                     0   \n",
       "65141                      0                     1   \n",
       "7513                       0                     1   \n",
       "2542                       0                     1   \n",
       "48945                      0                     1   \n",
       "\n",
       "             education_Master's & above  education_UNKNOWN  gender_f  \\\n",
       "employee_id                                                            \n",
       "65438                                 1                  0         1   \n",
       "65141                                 0                  0         0   \n",
       "7513                                  0                  0         0   \n",
       "2542                                  0                  0         0   \n",
       "48945                                 0                  0         0   \n",
       "\n",
       "             recruitment_channel_referred  \n",
       "employee_id                                \n",
       "65438                                   0  \n",
       "65141                                   0  \n",
       "7513                                    0  \n",
       "2542                                    0  \n",
       "48945                                   0  \n",
       "\n",
       "[5 rows x 36 columns]"
      ]
     },
     "execution_count": 14,
     "metadata": {},
     "output_type": "execute_result"
    }
   ],
   "source": [
    "data_train.head()"
   ]
  },
  {
   "cell_type": "code",
   "execution_count": 32,
   "metadata": {},
   "outputs": [],
   "source": [
    "#train test split doesnt actually split\n",
    "X_train, X_test, y_train, y_test = train_test_split(np.array(data_train.drop(['is_promoted'],axis=1)), np.array(data_train['is_promoted']), test_size=0, random_state=42)\n",
    "X_test1 = np.array(data_pred)\n"
   ]
  },
  {
   "cell_type": "code",
   "execution_count": 55,
   "metadata": {},
   "outputs": [
    {
     "name": "stdout",
     "output_type": "stream",
     "text": [
      "\u001b[31mInitialization\u001b[0m\n",
      "\u001b[94m--------------------------------------------------------------------------------------------------------------------------------------------\u001b[0m\n",
      " Step |   Time |      Value |   colsample_bytree |       eta |     gamma |   max_depth |   min_child_weight |   n_estimators |   subsample | \n",
      "    1 | 03m57s | \u001b[35m   0.37750\u001b[0m | \u001b[32m            0.5219\u001b[0m | \u001b[32m   0.1196\u001b[0m | \u001b[32m  10.6991\u001b[0m | \u001b[32m   568.4526\u001b[0m | \u001b[32m            0.5780\u001b[0m | \u001b[32m     1609.2449\u001b[0m | \u001b[32m     0.5105\u001b[0m | \n",
      "    2 | 05m38s | \u001b[35m   0.38039\u001b[0m | \u001b[32m            0.5414\u001b[0m | \u001b[32m   0.1083\u001b[0m | \u001b[32m  11.8737\u001b[0m | \u001b[32m   540.5203\u001b[0m | \u001b[32m            0.6222\u001b[0m | \u001b[32m     1779.1490\u001b[0m | \u001b[32m     0.6932\u001b[0m | \n",
      "    3 | 05m30s | \u001b[35m   0.38101\u001b[0m | \u001b[32m            0.5915\u001b[0m | \u001b[32m   0.1186\u001b[0m | \u001b[32m  11.6967\u001b[0m | \u001b[32m   542.4040\u001b[0m | \u001b[32m            0.6761\u001b[0m | \u001b[32m     1737.2291\u001b[0m | \u001b[32m     0.6551\u001b[0m | \n",
      "    4 | 05m20s |    0.37969 |             0.5726 |    0.1078 |   10.7614 |    574.9370 |             0.6239 |      1686.2785 |      0.6269 | \n",
      "    5 | 04m53s |    0.37952 |             0.5798 |    0.1031 |   12.6264 |    561.8135 |             0.5302 |      1640.8937 |      0.5990 | \n",
      "\u001b[31mBayesian Optimization\u001b[0m\n",
      "\u001b[94m--------------------------------------------------------------------------------------------------------------------------------------------\u001b[0m\n",
      " Step |   Time |      Value |   colsample_bytree |       eta |     gamma |   max_depth |   min_child_weight |   n_estimators |   subsample | \n",
      "    6 | 05m25s |    0.37921 |             0.5511 |    0.1053 |   12.9648 |    579.9965 |             0.6836 |      1799.9435 |      0.6295 | \n",
      "    7 | 04m41s |    0.37987 |             0.5428 |    0.1047 |   10.0966 |    540.2524 |             0.6797 |      1799.8364 |      0.5480 | \n",
      "    8 | 03m44s |    0.37660 |             0.5029 |    0.1162 |   11.2248 |    540.3208 |             0.6375 |      1600.0201 |      0.5026 | \n",
      "    9 | 04m36s |    0.37798 |             0.5224 |    0.1122 |   12.6111 |    579.5966 |             0.5851 |      1799.9651 |      0.5162 | \n",
      "   10 | 04m12s |    0.37748 |             0.5277 |    0.1007 |   10.2165 |    540.3570 |             0.6952 |      1799.8837 |      0.4536 | \n"
     ]
    }
   ],
   "source": [
    "\n",
    "#Bayesian Hyper parameter optimization of gradient boosted trees\n",
    "treesBO = BayesianOptimization(treesCV,{'eta':(0.10,0.12),\n",
    "                                        'gamma':(10,13),\n",
    "                                        'max_depth':(540,580),\n",
    "                                        'min_child_weight':(0.5,0.7),\n",
    "                                        'subsample':(0.4,0.7),\n",
    "                                        'colsample_bytree':(0.5,0.6),\n",
    "                                        'n_estimators':(1600,1800)})\n",
    "treesBO.maximize(n_iter=iter_no, **gp_params)\n",
    "tree_best = treesBO.res['max']\n",
    "\n",
    "\n"
   ]
  },
  {
   "cell_type": "code",
   "execution_count": 56,
   "metadata": {},
   "outputs": [
    {
     "data": {
      "text/plain": [
       "{'max_val': 0.3810097404240276,\n",
       " 'max_params': {'eta': 0.11859098559494138,\n",
       "  'gamma': 11.69666462768084,\n",
       "  'max_depth': 542.4039743059266,\n",
       "  'min_child_weight': 0.6761292126773157,\n",
       "  'subsample': 0.6551240109987331,\n",
       "  'colsample_bytree': 0.5915004252852708,\n",
       "  'n_estimators': 1737.229130518973}}"
      ]
     },
     "execution_count": 56,
     "metadata": {},
     "output_type": "execute_result"
    }
   ],
   "source": [
    "tree_best"
   ]
  },
  {
   "cell_type": "code",
   "execution_count": 60,
   "metadata": {},
   "outputs": [
    {
     "name": "stdout",
     "output_type": "stream",
     "text": [
      "\u001b[31mInitialization\u001b[0m\n",
      "\u001b[94m--------------------------------------------------------------------------------------------------------------------------------\u001b[0m\n",
      " Step |   Time |      Value |   colsample_bytree |       eta |   max_depth |   min_child_weight |   n_estimators |   subsample | \n",
      "    1 | 00m37s | \u001b[35m   0.28646\u001b[0m | \u001b[32m            0.5343\u001b[0m | \u001b[32m   0.1149\u001b[0m | \u001b[32m   565.0618\u001b[0m | \u001b[32m            0.5578\u001b[0m | \u001b[32m     1663.6302\u001b[0m | \u001b[32m     0.6477\u001b[0m | \n",
      "    2 | 00m40s |    0.28633 |             0.5036 |    0.1113 |    553.6427 |             0.5847 |      1787.9893 |      0.4565 | \n",
      "    3 | 00m41s |    0.28088 |             0.5725 |    0.1190 |    545.5722 |             0.5986 |      1686.1333 |      0.5097 | \n",
      "    4 | 00m42s |    0.28145 |             0.5471 |    0.1148 |    554.0473 |             0.5401 |      1733.8053 |      0.6919 | \n",
      "    5 | 00m42s | \u001b[35m   0.29573\u001b[0m | \u001b[32m            0.5255\u001b[0m | \u001b[32m   0.1031\u001b[0m | \u001b[32m   550.2306\u001b[0m | \u001b[32m            0.5609\u001b[0m | \u001b[32m     1649.5904\u001b[0m | \u001b[32m     0.5875\u001b[0m | \n",
      "\u001b[31mBayesian Optimization\u001b[0m\n",
      "\u001b[94m--------------------------------------------------------------------------------------------------------------------------------\u001b[0m\n",
      " Step |   Time |      Value |   colsample_bytree |       eta |   max_depth |   min_child_weight |   n_estimators |   subsample | \n",
      "    6 | 00m53s |    0.28816 |             0.5525 |    0.1156 |    579.7505 |             0.6868 |      1600.1775 |      0.6711 | \n",
      "    7 | 00m49s | \u001b[35m   0.29874\u001b[0m | \u001b[32m            0.5839\u001b[0m | \u001b[32m   0.1008\u001b[0m | \u001b[32m   540.7961\u001b[0m | \u001b[32m            0.5378\u001b[0m | \u001b[32m     1600.0898\u001b[0m | \u001b[32m     0.5007\u001b[0m | \n",
      "    8 | 00m52s |    0.29160 |             0.5644 |    0.1124 |    540.1895 |             0.6869 |      1600.3322 |      0.6016 | \n",
      "    9 | 00m54s |    0.29112 |             0.5489 |    0.1121 |    540.0701 |             0.5067 |      1600.0071 |      0.4988 | \n",
      "   10 | 00m54s |    0.29366 |             0.5093 |    0.1103 |    540.0685 |             0.5906 |      1600.0295 |      0.5491 | \n"
     ]
    }
   ],
   "source": [
    "\n",
    "#Bayesian Hyper parameter optimization of gradient boosted trees\n",
    "treesBO_LGB = BayesianOptimization(treesLGBCV,{'eta':(0.10,0.12),\n",
    "                                        'max_depth':(540,580),\n",
    "                                        'min_child_weight':(0.5,0.7),\n",
    "                                        'subsample':(0.4,0.7),\n",
    "                                        'colsample_bytree':(0.5,0.6),\n",
    "                                        'n_estimators':(1600,1800)})\n",
    "treesBO_LGB.maximize(n_iter=iter_no, **gp_params)\n",
    "treeLGB_best = treesBO_LGB.res['max']\n",
    "\n",
    "\n"
   ]
  },
  {
   "cell_type": "code",
   "execution_count": 61,
   "metadata": {},
   "outputs": [],
   "source": [
    "#train tree with best paras\n",
    "trees_model = xgb.XGBRegressor(objective='binary:logistic',\n",
    "                                tree_method = 'hist',\n",
    "                                seed=42,\n",
    "                                learning_rate=max(tree_best['max_params']['eta'],0),\n",
    "                                gamma=max(tree_best['max_params']['gamma'],0),\n",
    "                                max_depth=int(tree_best['max_params']['max_depth']),\n",
    "                                min_child_weight=int(tree_best['max_params']['min_child_weight']),\n",
    "                                silent=True,\n",
    "                                subsample=max(min(tree_best['max_params']['subsample'],1),0.0001),\n",
    "                                colsample_bytree=max(min(tree_best['max_params']['colsample_bytree'],1),0.0001),\n",
    "                                n_estimators=int(tree_best['max_params']['n_estimators']),nthread=-1)\n",
    "trees_model.fit(X_train, y_train)\n",
    "y_hat1 = trees_model.predict(np.array(X_test1))\n",
    "\n"
   ]
  },
  {
   "cell_type": "code",
   "execution_count": 63,
   "metadata": {},
   "outputs": [],
   "source": [
    "#train tree with best paras\n",
    "trees_model_lgb = lgb.LGBMRegressor(objective='binary',\n",
    "                                boosting_type = 'goss',\n",
    "                                random_state=42,\n",
    "                                learning_rate=max(treeLGB_best['max_params']['eta'],0),\n",
    "                                max_depth=int(treeLGB_best['max_params']['max_depth']),\n",
    "                                min_child_weight=int(treeLGB_best['max_params']['min_child_weight']),\n",
    "                                silent=True,\n",
    "                                subsample=max(min(treeLGB_best['max_params']['subsample'],1),0.0001),\n",
    "                                colsample_bytree=max(min(treeLGB_best['max_params']['colsample_bytree'],1),0.0001),\n",
    "                                n_estimators=int(treeLGB_best['max_params']['n_estimators']),nthread=-1)\n",
    "trees_model_lgb.fit(X_train, y_train)\n",
    "y_hat2 = trees_model_lgb.predict(np.array(X_test1))\n",
    "\n"
   ]
  },
  {
   "cell_type": "code",
   "execution_count": 64,
   "metadata": {},
   "outputs": [
    {
     "data": {
      "text/plain": [
       "array([1.4488249e-01, 1.0475478e-03, 3.9805842e-04, ..., 5.4157549e-04,\n",
       "       5.5405190e-03, 6.5966463e-01], dtype=float32)"
      ]
     },
     "execution_count": 64,
     "metadata": {},
     "output_type": "execute_result"
    }
   ],
   "source": [
    "y_hat1"
   ]
  },
  {
   "cell_type": "code",
   "execution_count": 65,
   "metadata": {},
   "outputs": [
    {
     "data": {
      "text/plain": [
       "array([6.99440164e-02, 1.10876642e-04, 1.75557963e-08, ...,\n",
       "       5.11536569e-06, 2.81002511e-04, 9.58923657e-01])"
      ]
     },
     "execution_count": 65,
     "metadata": {},
     "output_type": "execute_result"
    }
   ],
   "source": [
    "y_hat2"
   ]
  },
  {
   "cell_type": "code",
   "execution_count": 76,
   "metadata": {},
   "outputs": [],
   "source": [
    "#yhat=np.where(y_hat1>=.5,1,0)"
   ]
  },
  {
   "cell_type": "code",
   "execution_count": 93,
   "metadata": {},
   "outputs": [],
   "source": [
    "#train test split doesnt actually split\n",
    "X_train, X_test, y_train, y_test = train_test_split(np.array(data_train.drop(['is_promoted'],axis=1)), np.array(data_train['is_promoted']), test_size=0.2, random_state=42)\n",
    "X_test1 = data_pred"
   ]
  },
  {
   "cell_type": "code",
   "execution_count": 94,
   "metadata": {},
   "outputs": [],
   "source": [
    "#'''\n",
    "def run_lgb(train_X, train_y, val_X, val_y):\n",
    "    params = {\n",
    "    \"objective\" : \"binary\",\n",
    "    \"metric\" : \"auc\",\n",
    "    \"num_leaves\" : 40,\n",
    "    \"learning_rate\" : 0.005,\n",
    "    \"bagging_fraction\" : 0.6,\n",
    "    \"feature_fraction\" : 0.6,\n",
    "    \"bagging_frequency\" : 6,\n",
    "    \"bagging_seed\" : 42,\n",
    "    \"verbosity\" : -1,\n",
    "    \"seed\": 42\n",
    "    }\n",
    "\n",
    "    lgtrain = lgb.Dataset(train_X, label = train_y)\n",
    "    lgval = lgb.Dataset(val_X, label = val_y)\n",
    "    evals_result = {}\n",
    "    model = lgb.train(params, lgtrain, 5000, valid_sets = [lgtrain, lgval], early_stopping_rounds = 100, \n",
    "              verbose_eval = 150, evals_result = evals_result)\n",
    "    return model, evals_result\n",
    "#'''"
   ]
  },
  {
   "cell_type": "code",
   "execution_count": 95,
   "metadata": {},
   "outputs": [
    {
     "name": "stdout",
     "output_type": "stream",
     "text": [
      "Training until validation scores don't improve for 100 rounds.\n",
      "[150]\ttraining's auc: 0.913463\tvalid_1's auc: 0.90181\n",
      "[300]\ttraining's auc: 0.918681\tvalid_1's auc: 0.904669\n",
      "[450]\ttraining's auc: 0.922853\tvalid_1's auc: 0.906626\n",
      "[600]\ttraining's auc: 0.926231\tvalid_1's auc: 0.907604\n",
      "[750]\ttraining's auc: 0.929011\tvalid_1's auc: 0.908281\n",
      "[900]\ttraining's auc: 0.93154\tvalid_1's auc: 0.908392\n",
      "Early stopping, best iteration is:\n",
      "[867]\ttraining's auc: 0.930957\tvalid_1's auc: 0.90846\n",
      "LightGBM Training Completed...\n"
     ]
    }
   ],
   "source": [
    "\n",
    "#print(\"LGBM performance\")\n",
    "model_lgbm, evals_result = run_lgb(X_train, y_train, X_test, y_test)\n",
    "\n",
    "print(\"LightGBM Training Completed...\")\n",
    "#print(\"################################################\")\n",
    "y_hat2 = model_lgbm.predict(np.array(X_test1))\n"
   ]
  },
  {
   "cell_type": "code",
   "execution_count": 80,
   "metadata": {},
   "outputs": [
    {
     "data": {
      "text/plain": [
       "\"\\ncb_model = CatBoostClassifier(iterations=500,\\n                            # objective = 'binary',\\n                             learning_rate=0.05,\\n                             depth=10,\\n                             eval_metric='AUC',\\n                             random_seed = 42,\\n                             bagging_temperature = 0.2,\\n                             od_type='Iter',\\n                             metric_period = 50,\\n                             od_wait=20)\\n\""
      ]
     },
     "execution_count": 80,
     "metadata": {},
     "output_type": "execute_result"
    }
   ],
   "source": [
    "'''\n",
    "cb_model = CatBoostClassifier(iterations=500,\n",
    "                            # objective = 'binary',\n",
    "                             learning_rate=0.05,\n",
    "                             depth=10,\n",
    "                             eval_metric='AUC',\n",
    "                             random_seed = 42,\n",
    "                             bagging_temperature = 0.2,\n",
    "                             od_type='Iter',\n",
    "                             metric_period = 50,\n",
    "                             od_wait=20)\n",
    "'''"
   ]
  },
  {
   "cell_type": "code",
   "execution_count": 81,
   "metadata": {},
   "outputs": [],
   "source": [
    "#cb_model.fit(X_train, y_train,\n",
    "#             eval_set=(X_test, y_test),\n",
    "#             use_best_model=True,\n",
    "#             verbose=True)\n",
    "#pred_test_cat = (cb_model.predict_proba(np.array(X_test1)))"
   ]
  },
  {
   "cell_type": "code",
   "execution_count": 96,
   "metadata": {},
   "outputs": [],
   "source": [
    "yhats = y_hat1 + y_hat2"
   ]
  },
  {
   "cell_type": "code",
   "execution_count": 97,
   "metadata": {},
   "outputs": [],
   "source": [
    "#yhats = (pred_test_xgb*.5+y_hat2*.3+pred_test_cat[:,1])"
   ]
  },
  {
   "cell_type": "code",
   "execution_count": 98,
   "metadata": {},
   "outputs": [],
   "source": [
    "yhat = np.where(yhats>.5,1,0)"
   ]
  },
  {
   "cell_type": "code",
   "execution_count": 99,
   "metadata": {},
   "outputs": [],
   "source": [
    "\n",
    "submission = pd.DataFrame({'employee_id':np.array(data_pred.reset_index(\"employee_id\")['employee_id']),'is_promoted':yhat})\n",
    "\n",
    "#write to file for submission\n",
    "submission.to_csv('submission.csv',sep=',', index=False)"
   ]
  },
  {
   "cell_type": "code",
   "execution_count": 100,
   "metadata": {},
   "outputs": [
    {
     "data": {
      "text/html": [
       "<div>\n",
       "<style scoped>\n",
       "    .dataframe tbody tr th:only-of-type {\n",
       "        vertical-align: middle;\n",
       "    }\n",
       "\n",
       "    .dataframe tbody tr th {\n",
       "        vertical-align: top;\n",
       "    }\n",
       "\n",
       "    .dataframe thead th {\n",
       "        text-align: right;\n",
       "    }\n",
       "</style>\n",
       "<table border=\"1\" class=\"dataframe\">\n",
       "  <thead>\n",
       "    <tr style=\"text-align: right;\">\n",
       "      <th></th>\n",
       "      <th>employee_id</th>\n",
       "      <th>is_promoted</th>\n",
       "    </tr>\n",
       "  </thead>\n",
       "  <tbody>\n",
       "    <tr>\n",
       "      <th>0</th>\n",
       "      <td>8724</td>\n",
       "      <td>0</td>\n",
       "    </tr>\n",
       "    <tr>\n",
       "      <th>1</th>\n",
       "      <td>74430</td>\n",
       "      <td>0</td>\n",
       "    </tr>\n",
       "    <tr>\n",
       "      <th>2</th>\n",
       "      <td>72255</td>\n",
       "      <td>0</td>\n",
       "    </tr>\n",
       "    <tr>\n",
       "      <th>3</th>\n",
       "      <td>38562</td>\n",
       "      <td>0</td>\n",
       "    </tr>\n",
       "    <tr>\n",
       "      <th>4</th>\n",
       "      <td>64486</td>\n",
       "      <td>0</td>\n",
       "    </tr>\n",
       "  </tbody>\n",
       "</table>\n",
       "</div>"
      ],
      "text/plain": [
       "   employee_id  is_promoted\n",
       "0         8724            0\n",
       "1        74430            0\n",
       "2        72255            0\n",
       "3        38562            0\n",
       "4        64486            0"
      ]
     },
     "execution_count": 100,
     "metadata": {},
     "output_type": "execute_result"
    }
   ],
   "source": [
    "submission.head()"
   ]
  },
  {
   "cell_type": "code",
   "execution_count": 101,
   "metadata": {},
   "outputs": [
    {
     "data": {
      "text/plain": [
       "array([0.01963907, 0.11624204, 0.06900212, 0.06050956, 0.03768577,\n",
       "       0.02335456, 0.30360934, 0.02388535, 0.02123142, 0.00690021,\n",
       "       0.04246284, 0.04299363, 0.03980892, 0.00849257, 0.00636943,\n",
       "       0.01061571, 0.00477707, 0.00902335, 0.00424628, 0.01963907,\n",
       "       0.007431  , 0.00636943, 0.00477707, 0.0111465 , 0.00690021,\n",
       "       0.007431  , 0.00583864, 0.00849257, 0.014862  , 0.00796178,\n",
       "       0.00849257, 0.00902335, 0.00690021, 0.01645435, 0.007431  ],\n",
       "      dtype=float32)"
      ]
     },
     "execution_count": 101,
     "metadata": {},
     "output_type": "execute_result"
    }
   ],
   "source": [
    "trees_model.feature_importances_"
   ]
  },
  {
   "cell_type": "code",
   "execution_count": 105,
   "metadata": {},
   "outputs": [
    {
     "data": {
      "text/plain": [
       "0    22143\n",
       "1     1347\n",
       "Name: is_promoted, dtype: int64"
      ]
     },
     "execution_count": 105,
     "metadata": {},
     "output_type": "execute_result"
    }
   ],
   "source": [
    "submission.is_promoted.value_counts()"
   ]
  },
  {
   "cell_type": "code",
   "execution_count": null,
   "metadata": {},
   "outputs": [],
   "source": []
  }
 ],
 "metadata": {
  "kernelspec": {
   "display_name": "Python 3",
   "language": "python",
   "name": "python3"
  },
  "language_info": {
   "codemirror_mode": {
    "name": "ipython",
    "version": 3
   },
   "file_extension": ".py",
   "mimetype": "text/x-python",
   "name": "python",
   "nbconvert_exporter": "python",
   "pygments_lexer": "ipython3",
   "version": "3.6.5"
  }
 },
 "nbformat": 4,
 "nbformat_minor": 2
}
